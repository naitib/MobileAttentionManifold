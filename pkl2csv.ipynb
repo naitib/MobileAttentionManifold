{
  "cells": [
    {
      "cell_type": "code",
      "metadata": {},
      "source": [
        "import pandas as pd\n",
        "import numpy as np\n",
        "import os\n",
        "\n",
        "files = os.listdir('MPIIMobileAttention/')\n",
        "\n",
        "\n",
        "for file in files:\n",
        "    df = pd.read_pickle(os.path.join('MPIIMobileAttention/', file))\n",
        "    newfile = file.replace('.pkl', '.csv')\n",
        "    df.to_csv(os.path.join('MobileAttn/', newfile))\n"
      ],
      "outputs": [],
      "execution_count": null
    }
  ],
  "metadata": {
    "anaconda-cloud": {},
    "kernelspec": {
      "display_name": "Python 3",
      "language": "python",
      "name": "python3"
    },
    "language_info": {
      "codemirror_mode": {
        "name": "ipython",
        "version": 3
      },
      "file_extension": ".py",
      "mimetype": "text/x-python",
      "name": "python",
      "nbconvert_exporter": "python",
      "pygments_lexer": "ipython3",
      "version": "3.6.1"
    }
  },
  "nbformat": 4,
  "nbformat_minor": 1
}