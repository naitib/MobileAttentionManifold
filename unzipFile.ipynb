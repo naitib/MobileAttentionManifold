{
  "cells": [
    {
      "cell_type": "code",
      "metadata": {},
      "source": [
        "from zipfile import ZipFile\n",
        "from urllib.request import urlopen\n",
        "import pandas as pd\n",
        "import os\n",
        "\n",
        "def download_url(url, save_path):\n",
        "    with urlopen(url) as dl_file:\n",
        "        with open(save_path, 'wb') as out_file:\n",
        "            out_file.write(dl_file.read())\n",
        "\n",
        "URL = 'https://datasets.d2.mpi-inf.mpg.de/MobileHCI2018/MPIIMobileAttention.zip'\n",
        "\n",
        "download_url(URL, '../MPIIMobileAttention.zip')\n",
        "\n",
        "print ('url downloaded :) \\n')\n",
        "\n",
        "# open and save the zip file onto computer\n",
        "url = urlopen(URL)\n",
        "output = open('./MPIIMobileAttention.zip', 'wb')    # note the flag:  \"wb\"  \n",
        "print ('opened \\n')      \n",
        "output.write(url.read())\n",
        "print ('written \\n')  \n",
        "output.close()\n",
        "print ('closed \\n')  \n",
        "\n",
        "# read the zip file as a pandas dataframe\n",
        "df = pd.read_pickle('MPIIMobileAttention.zip')    # zip files       \n",
        "print ('read a pkl \\n')  \n",
        "\n",
        "df.to_pickle(\"./MPIIMobileAttention.pkl\")\n",
        "print ('made a pkl \\n')  \n",
        "# if keeping on disk the zip file is not wanted, then:\n",
        "# os.remove(zipName)   # remove the copy of the zipfile on disk"
      ],
      "outputs": [],
      "execution_count": null
    }
  ],
  "metadata": {
    "anaconda-cloud": {},
    "kernelspec": {
      "display_name": "Python 3",
      "language": "python",
      "name": "python3"
    },
    "language_info": {
      "codemirror_mode": {
        "name": "ipython",
        "version": 3
      },
      "file_extension": ".py",
      "mimetype": "text/x-python",
      "name": "python",
      "nbconvert_exporter": "python",
      "pygments_lexer": "ipython3",
      "version": "3.6.1"
    }
  },
  "nbformat": 4,
  "nbformat_minor": 1
}