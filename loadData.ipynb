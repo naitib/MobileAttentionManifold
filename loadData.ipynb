{
  "cells": [
    {
      "cell_type": "code",
      "metadata": {},
      "source": [
        "import pandas as pd\n",
        "import numpy as np\n",
        "import os\n",
        "\n",
        "def loadData(files):\n",
        "\n",
        "    list_of_dfs = []\n",
        "\n",
        "    for file in files:\n",
        "        df = pd.read_pickle(os.path.join('MPIIMobileAttention/', file))\n",
        "        list_of_dfs.append(df)\n",
        "\n",
        "    big_df = pd.concat(list_of_dfs, ignore_index = True, sort=True)\n",
        "\n",
        "    return big_df\n",
        "\n",
        "# df = loadData(os.listdir('MPIIMobileAttention/'))\n",
        "\n",
        "\n",
        "\n"
      ],
      "outputs": [],
      "execution_count": null
    }
  ],
  "metadata": {
    "anaconda-cloud": {},
    "kernelspec": {
      "display_name": "Python 3",
      "language": "python",
      "name": "python3"
    },
    "language_info": {
      "codemirror_mode": {
        "name": "ipython",
        "version": 3
      },
      "file_extension": ".py",
      "mimetype": "text/x-python",
      "name": "python",
      "nbconvert_exporter": "python",
      "pygments_lexer": "ipython3",
      "version": "3.6.1"
    }
  },
  "nbformat": 4,
  "nbformat_minor": 1
}